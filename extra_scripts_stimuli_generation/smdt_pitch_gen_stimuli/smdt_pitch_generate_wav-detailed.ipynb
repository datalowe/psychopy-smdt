{
 "cells": [
  {
   "cell_type": "markdown",
   "metadata": {},
   "source": [
    "# SMDT Pitch: Generate .wav files composed of sine waves"
   ]
  },
  {
   "cell_type": "markdown",
   "metadata": {},
   "source": [
    "From the [SMDT original article](https://www.sciencedirect.com/science/article/pii/S0191886914000841):\n",
    "> In the Pitch sub-test, stimuli consisted of sine tones. Each tone had total duration of 590 ms and started with a 30 ms ramp from 0 dB followed by 530 ms steady state and ending with a 30 ms ramp down to 0 dB. The frequency of one of the stimulus tones in an item was always 500 Hz. The frequency of the other tone varied in the range 501–517 Hz. The order of the two tones varied randomly so that the standard tone (500 Hz) was presented first in some items and last in the others. The two tones in an item were separated by 1 s of silence. \n",
    "\n",
    "Note that the article doesn't describe what the actual volume (e. g. during steady state) that the sounds ramped up to was. It's possible that this wasn't really specified, since the test was to be possible to do online, from participants' homes."
   ]
  },
  {
   "cell_type": "markdown",
   "metadata": {},
   "source": [
    "When putting together this Jupyter notebook, I used [this blog post](https://thehackerdiary.wordpress.com/2017/06/09/it-is-ridiculously-easy-to-generate-any-audio-signal-using-python/), [this Reddit thread](https://old.reddit.com/r/Python/comments/6g9ccc/it_is_ridiculously_easy_to_generate_any_audio/) and [this other blog post](https://soledadpenades.com/posts/2009/fastest-way-to-generate-wav-files-in-python-using-the-wave-module/)."
   ]
  },
  {
   "cell_type": "markdown",
   "metadata": {},
   "source": [
    "## Imports"
   ]
  },
  {
   "cell_type": "code",
   "execution_count": 1,
   "metadata": {},
   "outputs": [],
   "source": [
    "import struct\n",
    "import wave\n",
    "import numpy as np\n",
    "import pandas as pd\n",
    "import os"
   ]
  },
  {
   "cell_type": "markdown",
   "metadata": {},
   "source": [
    "## General setup"
   ]
  },
  {
   "cell_type": "code",
   "execution_count": 2,
   "metadata": {},
   "outputs": [],
   "source": [
    "sampling_rate = 44100\n",
    "freq_first_sound = 550\n",
    "freq_second_sound = 500\n",
    "max_amplitude = 100\n",
    "save_dir_path = '/Users/workingman/Desktop'\n",
    "save_file_path = os.path.join(save_dir_path, f'smdtpitch_{freq_first_sound}_{freq_second_sound}.wav')"
   ]
  },
  {
   "cell_type": "markdown",
   "metadata": {},
   "source": [
    "## First sound"
   ]
  },
  {
   "cell_type": "markdown",
   "metadata": {},
   "source": [
    "### First section of first sound"
   ]
  },
  {
   "cell_type": "markdown",
   "metadata": {},
   "source": [
    "> started with a 30 ms ramp from 0 dB"
   ]
  },
  {
   "cell_type": "code",
   "execution_count": 3,
   "metadata": {},
   "outputs": [],
   "source": [
    "samples1_1 = int(sampling_rate * 3/100)\n",
    "x1_1 = np.arange(samples1_1)\n",
    "amp1_1 = np.linspace(0, max_amplitude, samples1_1) # amplitude (ascending)"
   ]
  },
  {
   "cell_type": "code",
   "execution_count": 4,
   "metadata": {},
   "outputs": [],
   "source": [
    "y1_1 = amp1_1*np.sin(2 * np.pi * freq_first_sound * x1_1 / sampling_rate)"
   ]
  },
  {
   "cell_type": "markdown",
   "metadata": {},
   "source": [
    "### Second section of first sound"
   ]
  },
  {
   "cell_type": "markdown",
   "metadata": {},
   "source": [
    "> followed by 530 ms steady state"
   ]
  },
  {
   "cell_type": "code",
   "execution_count": 5,
   "metadata": {},
   "outputs": [],
   "source": [
    "samples1_2 = int(sampling_rate * 53/100)\n",
    "x1_2 = np.arange(samples1_2)\n",
    "amp1_2 = max_amplitude"
   ]
  },
  {
   "cell_type": "code",
   "execution_count": 6,
   "metadata": {},
   "outputs": [],
   "source": [
    "y1_2 = amp1_2*np.sin(2 * np.pi * freq_first_sound * x1_2 / sampling_rate)"
   ]
  },
  {
   "cell_type": "markdown",
   "metadata": {},
   "source": [
    "### Third section of first sound"
   ]
  },
  {
   "cell_type": "markdown",
   "metadata": {},
   "source": [
    "> ending with a 30 ms ramp down to 0 dB"
   ]
  },
  {
   "cell_type": "code",
   "execution_count": 7,
   "metadata": {},
   "outputs": [],
   "source": [
    "samples1_3 = int(sampling_rate * 3/100)\n",
    "x1_3 = np.arange(samples1_3)\n",
    "amp1_3 = np.linspace(max_amplitude, 0, samples1_3) # amplitude (descending)"
   ]
  },
  {
   "cell_type": "code",
   "execution_count": 8,
   "metadata": {},
   "outputs": [],
   "source": [
    "y1_3 = amp1_3*np.sin(2 * np.pi * freq_first_sound * x1_3 / sampling_rate)"
   ]
  },
  {
   "cell_type": "code",
   "execution_count": 9,
   "metadata": {},
   "outputs": [
    {
     "data": {
      "text/plain": [
       "(1323,)"
      ]
     },
     "execution_count": 9,
     "metadata": {},
     "output_type": "execute_result"
    }
   ],
   "source": [
    "y1_3.shape"
   ]
  },
  {
   "cell_type": "markdown",
   "metadata": {},
   "source": [
    "## Inbetween sounds pause"
   ]
  },
  {
   "cell_type": "markdown",
   "metadata": {},
   "source": [
    "> The two tones in an item were separated by 1 s of silence."
   ]
  },
  {
   "cell_type": "code",
   "execution_count": 10,
   "metadata": {},
   "outputs": [],
   "source": [
    "samples_pause = int(sampling_rate * 1)\n",
    "x_pause = np.arange(samples_pause)\n",
    "amp_pause = 0"
   ]
  },
  {
   "cell_type": "code",
   "execution_count": 11,
   "metadata": {},
   "outputs": [],
   "source": [
    "y_pause = amp_pause*np.sin(2 * np.pi * freq_first_sound * x_pause / sampling_rate)"
   ]
  },
  {
   "cell_type": "markdown",
   "metadata": {},
   "source": [
    "## Second sound"
   ]
  },
  {
   "cell_type": "markdown",
   "metadata": {},
   "source": [
    "### First section of second sound"
   ]
  },
  {
   "cell_type": "markdown",
   "metadata": {},
   "source": [
    "> started with a 30 ms ramp from 0 dB"
   ]
  },
  {
   "cell_type": "code",
   "execution_count": 12,
   "metadata": {},
   "outputs": [],
   "source": [
    "samples2_1 = int(sampling_rate * 3/100)\n",
    "x2_1 = np.arange(samples2_1)\n",
    "amp2_1 = np.linspace(0, max_amplitude, samples2_1) # amplitude (ascending)"
   ]
  },
  {
   "cell_type": "code",
   "execution_count": 13,
   "metadata": {},
   "outputs": [],
   "source": [
    "y2_1 = amp2_1*np.sin(2 * np.pi * freq_second_sound * x2_1 / sampling_rate)"
   ]
  },
  {
   "cell_type": "markdown",
   "metadata": {},
   "source": [
    "### Second section of second sound"
   ]
  },
  {
   "cell_type": "markdown",
   "metadata": {},
   "source": [
    "> followed by 530 ms steady state"
   ]
  },
  {
   "cell_type": "code",
   "execution_count": 14,
   "metadata": {},
   "outputs": [],
   "source": [
    "samples2_2 = int(sampling_rate * 53/100)\n",
    "x2_2 = np.arange(samples2_2)\n",
    "amp2_2 = max_amplitude"
   ]
  },
  {
   "cell_type": "code",
   "execution_count": 15,
   "metadata": {},
   "outputs": [],
   "source": [
    "y2_2 = amp2_2*np.sin(2 * np.pi * freq_second_sound * x2_2 / sampling_rate)"
   ]
  },
  {
   "cell_type": "markdown",
   "metadata": {},
   "source": [
    "### Third section of second sound"
   ]
  },
  {
   "cell_type": "markdown",
   "metadata": {},
   "source": [
    "> ending with a 30 ms ramp down to 0 dB"
   ]
  },
  {
   "cell_type": "code",
   "execution_count": 16,
   "metadata": {},
   "outputs": [],
   "source": [
    "samples2_3 = int(sampling_rate * 3/100)\n",
    "x2_3 = np.arange(samples2_3)\n",
    "amp2_3 = np.linspace(max_amplitude, 0, samples2_3) # amplitude (descending)"
   ]
  },
  {
   "cell_type": "code",
   "execution_count": 17,
   "metadata": {},
   "outputs": [],
   "source": [
    "y2_3 = amp2_3*np.sin(2 * np.pi * freq_second_sound * x2_3 / sampling_rate)"
   ]
  },
  {
   "cell_type": "code",
   "execution_count": 18,
   "metadata": {},
   "outputs": [
    {
     "data": {
      "text/plain": [
       "(1323,)"
      ]
     },
     "execution_count": 18,
     "metadata": {},
     "output_type": "execute_result"
    }
   ],
   "source": [
    "y2_3.shape"
   ]
  },
  {
   "cell_type": "markdown",
   "metadata": {},
   "source": [
    "## Merge sections to produce one single sequence"
   ]
  },
  {
   "cell_type": "code",
   "execution_count": 19,
   "metadata": {},
   "outputs": [],
   "source": [
    "y = np.concatenate((y1_1, y1_2, y1_3, y_pause, y2_1, y2_2, y2_3), axis=0)"
   ]
  },
  {
   "cell_type": "markdown",
   "metadata": {},
   "source": [
    "## Make a rough visualization of the sequence"
   ]
  },
  {
   "cell_type": "code",
   "execution_count": 20,
   "metadata": {},
   "outputs": [],
   "source": [
    "df = pd.DataFrame({'y':y})"
   ]
  },
  {
   "cell_type": "code",
   "execution_count": 21,
   "metadata": {},
   "outputs": [
    {
     "data": {
      "text/plain": [
       "<matplotlib.axes._subplots.AxesSubplot at 0x115087370>"
      ]
     },
     "execution_count": 21,
     "metadata": {},
     "output_type": "execute_result"
    },
    {
     "data": {
      "image/png": "[encoded data removed]",
      "text/plain": [
       "<Figure size 432x288 with 1 Axes>"
      ]
     },
     "metadata": {
      "needs_background": "light"
     },
     "output_type": "display_data"
    }
   ],
   "source": [
    "df.plot(y='y')"
   ]
  },
  {
   "cell_type": "markdown",
   "metadata": {},
   "source": [
    "## Write to file"
   ]
  },
  {
   "cell_type": "markdown",
   "metadata": {},
   "source": [
    "The wave package is used here. For a description of how the `.setparams` method works, see the [source code](https://old.reddit.com/r/Python/comments/6g9ccc/it_is_ridiculously_easy_to_generate_any_audio/) for wave, around lines 284 and 393. The tuple passed to the method contains these specifications (in order):\n",
    "\n",
    "* nchannels: The number of channels (mono/stereo)\n",
    "* sampwidth: The sample width, the number of bytes per audio sample. 2 bytes (16 bits) is standard for the WAV format.\n",
    "* framerate: The sampling frequency (44,1 kHz is default AFAIK)\n",
    "* nframes: \"the number of audio frames written to the header\" - I don't know what this is really.\n",
    "* comptype: \"the AIFF-C compression type ('NONE' in AIFF)\" - I don't know much about this either. We don't use compression here, because we want the sound to be loaded as quickly as possible.\n",
    "* compname: \"the human-readable AIFF-C compression type\" - Labels the compression type. \n"
   ]
  },
  {
   "cell_type": "code",
   "execution_count": 26,
   "metadata": {},
   "outputs": [],
   "source": [
    "# noise_output = wave.open(save_file_path, 'w')\n",
    "# noise_output.setparams((2, 2, 44100, 0, 'NONE', 'not compressed'))\n",
    "# values = [struct.pack('h', int(value)) for value in y]\n",
    "# value_flat = b''.join(values)\n",
    "# noise_output.writeframes(value_flat)\n",
    "# noise_output.close()\n",
    "\n",
    "f = open(save_file_path, 'wb')\n",
    "for i in y:\n",
    "    f.write(struct.pack('b', int(i)))\n",
    "f.close()\n"
   ]
  },
  {
   "cell_type": "code",
   "execution_count": null,
   "metadata": {},
   "outputs": [],
   "source": []
  }
 ],
 "metadata": {
  "kernelspec": {
   "display_name": "Python 3",
   "language": "python",
   "name": "python3"
  },
  "language_info": {
   "codemirror_mode": {
    "name": "ipython",
    "version": 3
   },
   "file_extension": ".py",
   "mimetype": "text/x-python",
   "name": "python",
   "nbconvert_exporter": "python",
   "pygments_lexer": "ipython3",
   "version": "3.8.5"
  }
 },
 "nbformat": 4,
 "nbformat_minor": 4
}
