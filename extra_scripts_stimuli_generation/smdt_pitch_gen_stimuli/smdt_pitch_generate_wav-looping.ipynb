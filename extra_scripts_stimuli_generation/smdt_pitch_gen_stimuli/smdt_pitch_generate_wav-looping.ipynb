{
 "cells": [
  {
   "cell_type": "markdown",
   "metadata": {},
   "source": [
    "# SMDT Pitch: Generate .wav files composed of sine waves (loop)"
   ]
  },
  {
   "cell_type": "markdown",
   "metadata": {},
   "source": [
    "Please see the similarly named \"smdt_pitch_generate_wav-detailed\" notebook (should be in the same folder as this one) for step-by-step description of what/why/how stimuli are being generated."
   ]
  },
  {
   "cell_type": "markdown",
   "metadata": {},
   "source": [
    "## Imports"
   ]
  },
  {
   "cell_type": "code",
   "execution_count": 1,
   "metadata": {},
   "outputs": [],
   "source": [
    "import struct\n",
    "import wave\n",
    "import numpy as np\n",
    "import pandas as pd\n",
    "import os"
   ]
  },
  {
   "cell_type": "markdown",
   "metadata": {},
   "source": [
    "## Define functions"
   ]
  },
  {
   "cell_type": "markdown",
   "metadata": {},
   "source": [
    "### gen_amp_movement"
   ]
  },
  {
   "cell_type": "markdown",
   "metadata": {},
   "source": [
    "Generates a 1-dimensional array of amplitude values.\n",
    "\n",
    "* amp_max: Maximum amplitude\n",
    "* amp_move: 'rise'/'descend'/'sustain' - if the amplitude values should describe a movement in volume from min to max ('rise'), max to min ('descend'), or just sustain the same volume (max to max - 'sustain')\n",
    "* n_samples: Number of values to generate"
   ]
  },
  {
   "cell_type": "code",
   "execution_count": 2,
   "metadata": {},
   "outputs": [],
   "source": [
    "def gen_amp_movement(amp_max, amp_move, n_samples, amp_min=0):\n",
    "    if amp_move == 'rise':\n",
    "        volume_vals = np.linspace(amp_min, amp_max, n_samples)\n",
    "    elif amp_move == 'descend':\n",
    "        volume_vals = np.linspace(amp_max, amp_min, n_samples)\n",
    "    else:\n",
    "        volume_vals = np.linspace(amp_max, amp_max, n_samples)\n",
    "    return volume_vals"
   ]
  },
  {
   "cell_type": "markdown",
   "metadata": {},
   "source": [
    "Generates a sequence of sine wave values, which starts with a rise in volume and ends with a decrease in volume, based on: \n",
    "* sampling_rate: sampling rate\n",
    "* dur_shift: duration of rise/descent\n",
    "* dur_sustain: duration of sustained volume in middle\n",
    "* amp_max: maximum amplitude\n",
    "* freq: wave/sound frequency\n",
    "* amp_min: minimum amplitude (defaults to 0)"
   ]
  },
  {
   "cell_type": "code",
   "execution_count": 3,
   "metadata": {},
   "outputs": [],
   "source": [
    "def gen_sine_wave(sampling_rate, dur_shift, dur_sustain, amp_max, freq, amp_min=0):\n",
    "    tot_n_samples = int(sampling_rate * (dur_shift * 2 + dur_sustain)/1000)\n",
    "    samples_shift = sampling_rate * (dur_shift / 1000)\n",
    "    samples_sustain = sampling_rate * (dur_sustain / 1000)\n",
    "    \n",
    "    volumes_rise = gen_amp_movement(\n",
    "        amp_max=amp_max, \n",
    "        amp_move='rise', \n",
    "        n_samples=samples_shift)\n",
    "    volumes_sustain = gen_amp_movement(\n",
    "        amp_max=amp_max, \n",
    "        amp_move='sustain', \n",
    "        n_samples=samples_sustain)\n",
    "    volumes_descend = gen_amp_movement(\n",
    "        amp_max=amp_max, \n",
    "        amp_move='descend', \n",
    "        n_samples=samples_shift)\n",
    "    volume_vals = np.concatenate((\n",
    "        volumes_rise, volumes_sustain, volumes_descend\n",
    "    ))\n",
    "    \n",
    "    sample_nums = np.arange(tot_n_samples)\n",
    "    seq_vals = volume_vals * np.sin(2 * np.pi * freq * sample_nums / sampling_rate)\n",
    "    return seq_vals"
   ]
  },
  {
   "cell_type": "markdown",
   "metadata": {},
   "source": [
    "Generates a sequence of 0 (amplitude) values, representing a quiet pause.\n",
    "\n",
    "* sampling_rate: sampling rate\n",
    "* dur_ms: duration (in milliseconds)"
   ]
  },
  {
   "cell_type": "code",
   "execution_count": 4,
   "metadata": {},
   "outputs": [],
   "source": [
    "def gen_pause_wave(sampling_rate, dur_ms):\n",
    "    n_samples = int(sampling_rate * dur_ms/1000)\n",
    "    sample_nums = np.arange(n_samples)\n",
    "    seq_vals = np.linspace(0, 0, n_samples)\n",
    "    return seq_vals\n",
    "\n"
   ]
  },
  {
   "cell_type": "markdown",
   "metadata": {},
   "source": [
    "## General setup"
   ]
  },
  {
   "cell_type": "code",
   "execution_count": 5,
   "metadata": {},
   "outputs": [],
   "source": [
    "SAMPLING_RATE = 44100\n",
    "MAX_AMPLITUDE = 10000\n",
    "BASE_FREQ = 500\n",
    "RAMP_DURATION = 30 # milliseconds\n",
    "SUSTAIN_DURATION = 530 # milliseconds\n",
    "PAUSE_DURATION = 1000 # milliseconds\n",
    "\n",
    "save_dir_path = 'generated_wavs/'"
   ]
  },
  {
   "cell_type": "markdown",
   "metadata": {},
   "source": [
    "## Modify input variables\n",
    "I'm not entirely sure why we have to do this, it's a dirty fix since I haven't found the root problem. It's related to when we repeat values after the loop for producing stereo sound. That seems to also lead to doubled play time, and so we have to cut the durations in half here."
   ]
  },
  {
   "cell_type": "code",
   "execution_count": 6,
   "metadata": {},
   "outputs": [],
   "source": [
    "# RAMP_DURATION /= 2\n",
    "# SUSTAIN_DURATION /= 2\n",
    "# PAUSE_DURATION /= 2"
   ]
  },
  {
   "cell_type": "markdown",
   "metadata": {},
   "source": [
    "## Loop"
   ]
  },
  {
   "cell_type": "code",
   "execution_count": 7,
   "metadata": {},
   "outputs": [],
   "source": [
    "for odd_freq_index in range(2):\n",
    "    sound_freqs = [BASE_FREQ, BASE_FREQ]\n",
    "    for add_hz in range(1, 18):\n",
    "        sound_freqs[odd_freq_index] = BASE_FREQ + add_hz\n",
    "        \n",
    "        # first sound\n",
    "        seq1 = gen_sine_wave(\n",
    "            sampling_rate=SAMPLING_RATE, \n",
    "            dur_shift=RAMP_DURATION,\n",
    "            dur_sustain=SUSTAIN_DURATION,\n",
    "            amp_max=MAX_AMPLITUDE,\n",
    "            freq=sound_freqs[0]\n",
    "        )\n",
    "        \n",
    "        # pause\n",
    "        seq_pause = gen_pause_wave(\n",
    "            sampling_rate=SAMPLING_RATE, \n",
    "            dur_ms=PAUSE_DURATION\n",
    "            )\n",
    "        \n",
    "        # second sound\n",
    "        seq2 = gen_sine_wave(\n",
    "            sampling_rate=SAMPLING_RATE, \n",
    "            dur_shift=RAMP_DURATION,\n",
    "            dur_sustain=SUSTAIN_DURATION,\n",
    "            amp_max=MAX_AMPLITUDE,\n",
    "            freq=sound_freqs[1]\n",
    "        )\n",
    "        \n",
    "        # merge all sequences into one\n",
    "        end_seq = np.concatenate((\n",
    "            seq1, seq_pause, seq2\n",
    "        ), axis=0\n",
    "        )\n",
    "        \n",
    "        # repeat each value once (since we're using stereo channels)\n",
    "        end_seq = np.repeat(end_seq, 2)\n",
    "        \n",
    "        # export to WAV\n",
    "        save_file_path = os.path.join(save_dir_path, f'smdtpitch_{sound_freqs[0]}_{sound_freqs[1]}.wav')\n",
    "        noise_output = wave.open(save_file_path, 'w')\n",
    "        noise_output.setparams((2, 2, 44100, 0, 'NONE', 'not compressed'))\n",
    "\n",
    "        values = [struct.pack('h', int(value)) for value in end_seq]\n",
    "\n",
    "        value_flat = b''.join(values)\n",
    "        noise_output.writeframes(value_flat)\n",
    "        noise_output.close()"
   ]
  }
 ],
 "metadata": {
  "kernelspec": {
   "display_name": "Python 3",
   "language": "python",
   "name": "python3"
  },
  "language_info": {
   "codemirror_mode": {
    "name": "ipython",
    "version": 3
   },
   "file_extension": ".py",
   "mimetype": "text/x-python",
   "name": "python",
   "nbconvert_exporter": "python",
   "pygments_lexer": "ipython3",
   "version": "3.8.5"
  }
 },
 "nbformat": 4,
 "nbformat_minor": 4
}
